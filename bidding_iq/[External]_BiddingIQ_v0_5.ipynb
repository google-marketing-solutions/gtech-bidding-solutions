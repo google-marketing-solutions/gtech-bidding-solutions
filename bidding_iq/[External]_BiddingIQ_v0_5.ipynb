{
  "nbformat": 4,
  "nbformat_minor": 0,
  "metadata": {
    "colab": {
      "provenance": [],
      "collapsed_sections": [
        "kKclYQEZP0wN",
        "VSDaign00Ioc",
        "Aah3Wg6Uqx9e",
        "w4ZrBXiUw70M",
        "yjRdlKjkrpME",
        "gQho63Eoexo5",
        "2YImGs0CHRyH",
        "V5GQTWrzFYQ4",
        "HCZKmf-RHlkN"
      ]
    },
    "kernelspec": {
      "name": "python3",
      "display_name": "Python 3"
    },
    "language_info": {
      "name": "python"
    }
  },
  "cells": [
    {
      "cell_type": "markdown",
      "source": [
        "![unnamed.png](data:image/png;base64,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)\n",
        "\n",
        "# **Bidding IQ**"
      ],
      "metadata": {
        "id": "qKKMwX60QgTK"
      }
    },
    {
      "cell_type": "code",
      "source": [
        "###########################################################################\n",
        "#\n",
        "#  Copyright 2021 Google Inc.\n",
        "#\n",
        "#  Licensed under the Apache License, Version 2.0 (the \"License\");\n",
        "#  you may not use this file except in compliance with the License.\n",
        "#  You may obtain a copy of the License at\n",
        "#\n",
        "#      https://www.apache.org/licenses/LICENSE-2.0\n",
        "#\n",
        "#  Unless required by applicable law or agreed to in writing, software\n",
        "#  distributed under the License is distributed on an \"AS IS\" BASIS,\n",
        "#  WITHOUT WARRANTIES OR CONDITIONS OF ANY KIND, either express or implied.\n",
        "#  See the License for the specific language governing permissions and\n",
        "#  limitations under the License.\n",
        "#\n",
        "# This solution, including any related sample code or data, is made available\n",
        "# on an “as is,” “as available,” and “with all faults” basis, solely for\n",
        "# illustrative purposes, and without warranty or representation of any kind.\n",
        "# This solution is experimental, unsupported and provided solely for your\n",
        "# convenience. Your use of it is subject to your agreements with Google, as\n",
        "# applicable, and may constitute a beta feature as defined under those\n",
        "# agreements.  To the extent that you make any data available to Google in\n",
        "# connection with your use of the solution, you represent and warrant that you\n",
        "# have all necessary and appropriate rights, consents and permissions to permit\n",
        "# Google to use and process that data.  By using any portion of this solution,\n",
        "# you acknowledge, assume and accept all risks, known and unknown, associated\n",
        "# with its usage, including with respect to your deployment of any portion of\n",
        "# this solution in your systems, or usage in connection with your business,\n",
        "# if at all.\n",
        "###########################################################################"
      ],
      "metadata": {
        "id": "pIgXgyST5EYl"
      },
      "execution_count": null,
      "outputs": []
    },
    {
      "cell_type": "markdown",
      "source": [
        "# **1) Imports & Functions**\n",
        "\n",
        "*No user action required*"
      ],
      "metadata": {
        "id": "3OgWy4BX8F_G"
      }
    },
    {
      "cell_type": "code",
      "source": [
        "# @title 1.1) Installs {\"display-mode\":\"form\"}\n",
        "%%capture\n",
        "try:\n",
        "  first_run\n",
        "except NameError:\n",
        "  first_run = True\n",
        "\n",
        "if first_run:\n",
        "  from google.oauth2.service_account import Credentials\n",
        "  from google.colab import auth, output, files\n",
        "  output.clear()\n",
        "  auth.authenticate_user()\n",
        "  from google.colab import drive\n",
        "  drive.mount('/content/drive', force_remount=False)\n",
        "  !pip install ydf\n",
        "  !pip install --no-deps gps_building_blocks\n",
        "  !pip install --upgrade pandas\n",
        "  first_run = False"
      ],
      "metadata": {
        "id": "o_GfS-xI6fA7"
      },
      "execution_count": null,
      "outputs": []
    },
    {
      "cell_type": "code",
      "source": [
        "# @title 1.2) Imports {\"display-mode\":\"form\"}\n",
        "%%capture\n",
        "\n",
        "from google.cloud import bigquery\n",
        "from google.auth import default\n",
        "import os\n",
        "from textwrap import wrap\n",
        "from datetime import datetime\n",
        "from zoneinfo import ZoneInfo\n",
        "import gspread\n",
        "import json\n",
        "import ipywidgets as widgets\n",
        "from IPython.display import display, HTML\n",
        "import pandas as pd\n",
        "import numpy as np\n",
        "import ipywidgets as widgets\n",
        "import matplotlib.pyplot as plt\n",
        "import seaborn as sns\n",
        "from sklearn.metrics import r2_score, mean_squared_error\n",
        "from sklearn.model_selection import KFold\n",
        "import statsmodels.api as sm\n",
        "import ydf\n",
        "from gps_building_blocks.ml.statistical_inference import data_preparation\n",
        "from gps_building_blocks.ml.statistical_inference import models"
      ],
      "metadata": {
        "id": "eSR_M461ah2x"
      },
      "execution_count": null,
      "outputs": []
    },
    {
      "cell_type": "code",
      "source": [
        "# @title 1.3) Functions {\"display-mode\":\"form\"}\n",
        "\n",
        "\n",
        "def get_best_lag(df, max_lag=15):\n",
        "  best_lag = 0\n",
        "  best_corr = 0\n",
        "  if len(df['impressions']) > 1 and len(df['target_variable']) > 1:\n",
        "    for lag in range(max_lag):\n",
        "      impressions = df['impressions'].astype(float)\n",
        "      target_variable = df['target_variable'].shift(lag).astype(float)\n",
        "      corr = impressions.corr(target_variable)\n",
        "      if corr > best_corr:\n",
        "        best_corr = corr\n",
        "        best_lag = lag\n",
        "  return best_lag\n",
        "\n",
        "\n",
        "def plot_lower_triangle_corr(df):\n",
        "  # Compute the correlation matrix\n",
        "  corr = df.corr()\n",
        "\n",
        "  # Generate a mask for the upper triangle\n",
        "  mask = np.triu(np.ones_like(corr, dtype=bool))\n",
        "\n",
        "  # Set up the matplotlib figure\n",
        "  f, ax = plt.subplots(figsize=(11, 11))\n",
        "\n",
        "  # Generate a custom diverging colormap\n",
        "  cmap = sns.diverging_palette(230, 20, as_cmap=True)\n",
        "\n",
        "  # Draw the heatmap with the mask and correct aspect ratio\n",
        "  sns.heatmap(\n",
        "      corr,\n",
        "      mask=mask,\n",
        "      cmap=cmap,\n",
        "      vmax=1,\n",
        "      center=0,\n",
        "      square=True,\n",
        "      linewidths=0.5,\n",
        "      cbar_kws={'shrink': 0.5},\n",
        "  )\n",
        "  plt.show()\n",
        "\n",
        "\n",
        "def combine_dataframes_by_date(dataframes):\n",
        "  \"\"\"Combines multiple Pandas DataFrames with a common 'date' column into a single master DataFrame,\n",
        "\n",
        "  then calculates Audible Impressions\n",
        "\n",
        "  Args:\n",
        "      dataframes: A list of Pandas DataFrames to combine.\n",
        "\n",
        "  Returns:\n",
        "      A master Pandas DataFrame with a single 'date' column (dbdate format), all\n",
        "      unique columns from the input DataFrames, a new audible impressions column\n",
        "      where applicable,\n",
        "      and NaN values replaced with 0.\n",
        "  \"\"\"\n",
        "\n",
        "  merged_df = dataframes[0]\n",
        "\n",
        "  for df in dataframes[1:]:\n",
        "    merged_df = pd.merge(merged_df, df, on='date', how='outer')\n",
        "\n",
        "  # Convert 'date' to datetime and then to dbdate format\n",
        "  merged_df['date'] = pd.to_datetime(merged_df['date'], format='mixed')\n",
        "\n",
        "  # Replace NaN values with 0\n",
        "  merged_df.fillna(0, inplace=True)\n",
        "\n",
        "  # Check if 'active_view_percent_audible_impressions' exists\n",
        "  if 'active_view_percent_audible_impressions' in merged_df.columns:\n",
        "    # Calculate 'audible_impressions' (no need to handle division by zero since NaN values are already 0)\n",
        "    merged_df['audible_impressions'] = (\n",
        "        merged_df['active_view_percent_audible_impressions']\n",
        "        / 100\n",
        "        * merged_df['active_view_measurable_impressions']\n",
        "    )\n",
        "    merged_df = merged_df.drop(\n",
        "        columns=['active_view_percent_audible_impressions']\n",
        "    )\n",
        "\n",
        "  # merged_df = merged_df.columns.str.replace('.','_')\n",
        "\n",
        "  return merged_df"
      ],
      "metadata": {
        "id": "mnI2ideat3v9"
      },
      "execution_count": null,
      "outputs": []
    },
    {
      "cell_type": "code",
      "source": [
        "# @title 1.4) Drive Setup {\"display-mode\":\"form\"}\n",
        "folder_path = \"/content/drive/My Drive/Bidding_IQ\"\n",
        "variable_folder = \"/content/drive/My Drive/Bidding_IQ/Saved_Variables\"\n",
        "script_folder = \"/content/drive/My Drive/Bidding_IQ/Generated_Scripts\"\n",
        "if not os.path.exists(folder_path):\n",
        "  os.makedirs(folder_path)\n",
        "if not os.path.exists(variable_folder):\n",
        "  os.makedirs(variable_folder)\n",
        "if not os.path.exists(script_folder):\n",
        "  os.makedirs(script_folder)\n",
        "\n",
        "\n",
        "file_path = (\n",
        "    variable_folder + \"/BiddingIQ_Variable_Sets.json\"\n",
        ")  # Specify the file path\n",
        "\n",
        "\n",
        "def save_variable_set(set_name):\n",
        "  \"\"\"Saves the current variable values to a JSON file.\"\"\"\n",
        "\n",
        "  # Try to load existing variable sets (if the file exists)\n",
        "  try:\n",
        "    # Load existing sets from Google Drive\n",
        "    with open(file_path, \"r\") as f:\n",
        "      all_sets = json.load(f)\n",
        "  except FileNotFoundError:\n",
        "    all_sets = {}  # Start with an empty dictionary if the file doesn't exist\n",
        "\n",
        "  variables = {\n",
        "      \"_CLIENT_NAME\": _CLIENT_NAME,\n",
        "      \"_DV3_DATA_SOURCE\": _DV3_DATA_SOURCE,\n",
        "      \"_DV3_DIMENSION_DATA_LOCATION\": _DV3_DIMENSION_DATA_LOCATION,\n",
        "      \"_DV3_METRIC_DATA_LOCATION\": _DV3_METRIC_DATA_LOCATION,\n",
        "      \"_DV3_BQ_PROJECT\": _DV3_BQ_PROJECT,\n",
        "      \"_DV3_DIMENSION_WORKSHEET\": _DV3_DIMENSION_WORKSHEET,\n",
        "      \"_DV3_METRIC_WORKSHEET\": _DV3_METRIC_WORKSHEET,\n",
        "      \"_TARGET_VARIABLE_SOURCE\": _TARGET_VARIABLE_SOURCE,\n",
        "      \"_TARGET_VARIABLE_LOCATION\": _TARGET_VARIABLE_LOCATION,\n",
        "      \"_DATE_COLUMN_TITLE\": _DATE_COLUMN_TITLE,\n",
        "      \"_TARGET_VARIABLE_COLUMN_TITLE\": _TARGET_VARIABLE_COLUMN_TITLE,\n",
        "      \"_TARGET_VARIABLE_BQ_PROJECT\": _TARGET_VARIABLE_BQ_PROJECT,\n",
        "      \"_TARGET_VARIABLE_WORKSHEET\": _TARGET_VARIABLE_WORKSHEET,\n",
        "  }\n",
        "\n",
        "  all_sets[set_name] = variables  # Add the new set to the dictionary\n",
        "\n",
        "  with open(file_path, \"w\") as f:\n",
        "    json.dump(all_sets, f)\n",
        "  print(f\"Variable set '{set_name}' saved successfully to Google Drive!\")\n",
        "  return variables\n",
        "\n",
        "\n",
        "def load_variable_set(set_name):\n",
        "  \"\"\"Loads variable values from the JSON file.\"\"\"\n",
        "\n",
        "  try:\n",
        "    with open(file_path, \"r\") as f:\n",
        "      all_sets = json.load(f)\n",
        "\n",
        "    if set_name in all_sets:\n",
        "      variables = all_sets[set_name]\n",
        "      globals().update(variables)  # Update global variables\n",
        "      print(f\"Variable set '{set_name}' loaded successfully!\")\n",
        "      for key, value in variables.items():\n",
        "        print(f\"{key}: {value}\")\n",
        "      return variables\n",
        "    else:\n",
        "      print(f\"Variable set '{set_name}' not found.\")\n",
        "  except FileNotFoundError:\n",
        "    print(\"No variable sets have been saved yet.\")\n",
        "\n",
        "\n",
        "def get_saved_set_names():\n",
        "  \"\"\"Retrieves and prints a list of all saved variable set names.\"\"\"\n",
        "  try:\n",
        "    with open(file_path, \"r\") as f:\n",
        "      all_sets = json.load(f)\n",
        "    return [\"None\"] + list(all_sets.keys())  # Add \"None\" as the first option\n",
        "  except FileNotFoundError:\n",
        "    return [\"None\"]  # Default to \"None\" if no file exists"
      ],
      "metadata": {
        "id": "juEZbpnwl5Hd"
      },
      "execution_count": null,
      "outputs": []
    },
    {
      "cell_type": "markdown",
      "source": [
        "# **2) User Inputs**\n",
        "\n",
        "This is where you will add your data inputs before running the notebook. After\n",
        "that, the notebook should run entirely on its own."
      ],
      "metadata": {
        "id": "IEaDiq9B-BrJ"
      }
    },
    {
      "cell_type": "markdown",
      "source": [
        "## 2.1) Model Inputs\n",
        "\n",
        "*   **Default Media Type** = Display\n",
        "*   **Default Model** = Default (*See\n",
        "    [Implementation Guide](https://docs.google.com/document/d/1oOLTo1STn9mCXXEKj95JbpflPhI4x0GHH4zrhRK5L4o/edit?tab=t.0#heading=h.vgol1uz8ixf6)\n",
        "    for more info on model options*)"
      ],
      "metadata": {
        "id": "bnPh9YLsVTEI"
      }
    },
    {
      "cell_type": "markdown",
      "source": [
        "If you'd like to change one of these inputs after your initial run, choose the\n",
        "new value from the dropdown and select Runtime > Run Cell and Below ***while the\n",
        "relevant cell is still selected.***"
      ],
      "metadata": {
        "id": "NxpyiaR19GeT"
      }
    },
    {
      "cell_type": "code",
      "source": [
        "# @markdown  ## Channel Selector {\"display-mode\":\"form\"}\n",
        "_MEDIA_TYPE = \"Video\"  # @param [\"Display\", \"Video\"]"
      ],
      "metadata": {
        "id": "BKHc49v1seQa",
        "cellView": "form"
      },
      "execution_count": null,
      "outputs": []
    },
    {
      "cell_type": "code",
      "source": [
        "# @markdown  ## Model Selector {\"display-mode\":\"form\"}\n",
        "_MODEL = \"Extra_Pivots\"  # @param [\"Default\", \"Include_Weekday\", \"Extra_Pivots\"]"
      ],
      "metadata": {
        "cellView": "form",
        "id": "gg4gfKEOisyp"
      },
      "execution_count": null,
      "outputs": []
    },
    {
      "cell_type": "markdown",
      "source": [
        "## 2.2) Using Existing Variable Set\n",
        "\n",
        "If this is your first time using the notebook, skip to the next section.\n",
        "\n",
        "For return users, this section allows you to reuse variable inputs from a\n",
        "previous run."
      ],
      "metadata": {
        "id": "LQT1uteaCDfm"
      }
    },
    {
      "cell_type": "code",
      "source": [
        "# @title {\"display-mode\":\"form\"}\n",
        "set_names = get_saved_set_names()  # Get initial set names\n",
        "dropdown = widgets.Dropdown(\n",
        "    options=set_names,\n",
        "    # value=set_names[0], # sets default to \"None\" or first saved set\n",
        "    description=\"Choose a Set:\",\n",
        "    disabled=False,\n",
        ")\n",
        "display(dropdown)\n",
        "\n",
        "\n",
        "print(\n",
        "    \"To use a saved variable set, choose your set name here and then select THE\"\n",
        "    \" FOLLOWING CELL & select 'Run Cell and Below' from the Runtime menu or hit\"\n",
        "    \" CTRL + F10.\"\n",
        ")"
      ],
      "metadata": {
        "id": "BBJwMvhdWnFO"
      },
      "execution_count": null,
      "outputs": []
    },
    {
      "cell_type": "code",
      "source": [
        "# @title Select this cell and choose Run Cell and Below to use Variable Set {\"display-mode\":\"form\"}\n",
        "selected_set_name = dropdown.value\n",
        "if selected_set_name != \"None\":\n",
        "  _VARIABLES = load_variable_set(selected_set_name)"
      ],
      "metadata": {
        "id": "rwMlXJCAztbE"
      },
      "execution_count": null,
      "outputs": []
    },
    {
      "cell_type": "markdown",
      "source": [
        "## 2.3) Using New Variable Inputs\n",
        "\n",
        "Please follow instructions\n",
        "[here](https://docs.google.com/document/d/1oOLTo1STn9mCXXEKj95JbpflPhI4x0GHH4zrhRK5L4o/edit?tab=t.0)\n",
        "on how to pull the DV360 reporting correctly.\n",
        "\n",
        "**Note:** If using Existing Variable Section, you do not need to take any\n",
        "actions within this block."
      ],
      "metadata": {
        "id": "rYz9h3LITu4t"
      }
    },
    {
      "cell_type": "code",
      "source": [
        "# @ title {\"display-mode\":\"form\"}\n",
        "if selected_set_name == \"None\":\n",
        "\n",
        "  _VARIABLE_SET_NAME = \"\"  # @param  {type:\"string\"}\n",
        "\n",
        "  _CLIENT_NAME = \"\"  # @param  {type:\"string\"}\n",
        "\n",
        "  # @markdown ---\n",
        "\n",
        "  # @markdown  ## DV360 DATA\n",
        "  _DV3_DATA_SOURCE = \"CSV\"  # @param [\"BQ\", \"CSV\"]\n",
        "\n",
        "  # TODO: Consider adding files.upload() functionality so users can choose file with button.\n",
        "  # -- Button shows at bottom of code block, so need to rearrange or split out into own block\n",
        "  # -- Would also need to add logic so that there is one final \"Data Location\" param for both dimension & metric data\n",
        "\n",
        "  _DV3_DIMENSION_DATA_LOCATION = \"\" #@param {type:\"string\"}\n",
        "  # @markdown <ul><li><strong>BQ:&nbsp;</strong>Use table name (including dataset name). Ex: BiddingIQ_Testing.Metric_Data_Test</li><li><strong>CSV:&nbsp;</strong>Upload CSV to Files section on left. Then use three dot menu to Copy Path and paste here.</li></ul>\n",
        "  _DV3_METRIC_DATA_LOCATION = \"\" #@param {type:\"string\"}\n",
        "  # @markdown <ul><li><strong>BQ:&nbsp;</strong>Use table name (including dataset name). Ex: BiddingIQ_Testing.Metric_Data_Test</li><li><strong>CSV:&nbsp;</strong>Upload CSV to Files section on left. Then use three dot menu to Copy Path and paste here.</li></ul>\n",
        "\n",
        "  # @markdown #### BQ Only:\n",
        "  _DV3_BQ_PROJECT = \"\"  # @param {type:\"string\"}\n",
        "\n",
        "  # @markdown ### Sheets Only:\n",
        "  _DV3_DIMENSION_WORKSHEET = \"\"  # @param {type:\"string\"}\n",
        "  _DV3_METRIC_WORKSHEET = \"\"  # @param {type:\"string\"}\n",
        "\n",
        "  # @markdown ---\n",
        "\n",
        "  # @markdown ## TARGET VARIABLE DATA\n",
        "  _TARGET_VARIABLE_SOURCE = \"Sheets\"  # @param [\"Sheets\", \"BQ\"]\n",
        "  _TARGET_VARIABLE_LOCATION = \"\" #@param {type:\"string\"}\n",
        "  # @markdown <ul><li><strong>BQ:&nbsp;</strong>Use table name (including dataset name). Ex: BiddingIQ_Testing.Metric_Data_Test</li><li><strong>Sheets:</strong> Use URL. Ex: https://docs.google.com/spreadsheets/d/1YO3jCXyR8IC1OIEM06xj-K5TKB-Axz-R_IArdUNmTO8/</li></ul>\n",
        "\n",
        "  _DATE_COLUMN_TITLE = \"Date\"  # @param {type:\"string\"}\n",
        "  _TARGET_VARIABLE_COLUMN_TITLE = \"Total Orders\"  # @param {type:\"string\"}\n",
        "\n",
        "  # @markdown #### BQ Only:\n",
        "  _TARGET_VARIABLE_BQ_PROJECT = \"\"  # @param {type:\"string\"}\n",
        "\n",
        "  # @markdown #### Sheets Only:\n",
        "  _TARGET_VARIABLE_WORKSHEET = \"Sheet1\"  # @param {type:\"string\"}\n",
        "\n",
        "  # @markdown ---\n",
        "  _VARIABLES = save_variable_set(_VARIABLE_SET_NAME)\n",
        "\n",
        "  print(f\"Variable set '{_VARIABLE_SET_NAME}' saved successfully!\")"
      ],
      "metadata": {
        "id": "Wq4kusN-Tp50",
        "cellView": "form"
      },
      "execution_count": null,
      "outputs": []
    },
    {
      "cell_type": "markdown",
      "source": [
        "## 2.4) Model ID Generation\n",
        "\n",
        "*No user action required*"
      ],
      "metadata": {
        "id": "kKclYQEZP0wN"
      }
    },
    {
      "cell_type": "code",
      "source": [
        "# @title\n",
        "# Generate a unique ID\n",
        "model_id = datetime.now().strftime(\"%y%m%d%H%M%S\") + str(os.getpid())\n",
        "\n",
        "print(\"Model ID:\", model_id)"
      ],
      "metadata": {
        "id": "4k4DtOGHPlJ6",
        "cellView": "form"
      },
      "execution_count": null,
      "outputs": []
    },
    {
      "cell_type": "markdown",
      "source": [
        "# **3) Load and prepare data**"
      ],
      "metadata": {
        "id": "jTdz-I_vrYJT"
      }
    },
    {
      "cell_type": "markdown",
      "source": [
        "### 3.1) Get Data From Source Files"
      ],
      "metadata": {
        "id": "Uw493yYkqeGx"
      }
    },
    {
      "cell_type": "code",
      "source": [
        "# @title  {\"display-mode\":\"form\"}\n",
        "\n",
        "\n",
        "# Get data from BigQuery (BQ)\n",
        "def get_data_from_bq(dataset_name, project_name):\n",
        "  \"\"\"Fetches data from a BigQuery dataset and returns a Pandas DataFrame.\"\"\"\n",
        "  # client = bigquery.Client()\n",
        "  client = bigquery.Client(project=project_name)\n",
        "  query = f'SELECT * FROM `{dataset_name}`'\n",
        "  df = client.query(query).to_dataframe()\n",
        "  if 'date' in df.columns:\n",
        "    df['date'] = pd.to_datetime(df['date']).dt.strftime('%Y-%m-%d')\n",
        "  return df\n",
        "\n",
        "\n",
        "# Get data from Google Sheets (Sheets)\n",
        "def get_data_from_sheets(sheet_url, worksheet_name):\n",
        "  \"\"\"Reads data from a specific worksheet within a Google Sheets URL and returns a Pandas DataFrame.\n",
        "\n",
        "  Args:\n",
        "      sheet_url (str): The URL of the Google Sheets document.\n",
        "      worksheet_name (str): The name of the worksheet to read.\n",
        "\n",
        "  Returns:\n",
        "      pandas.DataFrame: A DataFrame containing the data from the specified\n",
        "      worksheet.\n",
        "  \"\"\"\n",
        "\n",
        "  creds, _ = default()\n",
        "  gc = gspread.authorize(creds)\n",
        "\n",
        "  sh = gc.open_by_url(sheet_url)\n",
        "  worksheet = sh.worksheet(worksheet_name)\n",
        "\n",
        "  data = worksheet.get_all_values()\n",
        "  df = pd.DataFrame(data[1:], columns=data[0])\n",
        "\n",
        "  return df\n",
        "\n",
        "\n",
        "def get_data_from_csv(file_name):\n",
        "  \"\"\"Reads data from a CSV file in the 'Raw CSVs' folder and returns a Pandas DataFrame.\"\"\"\n",
        "  df = pd.read_csv(file_name, on_bad_lines='skip', low_memory=False)\n",
        "  blank_index = df.iloc[:, 0].isnull().idxmax()\n",
        "\n",
        "  # If a blank row was found, keep only the rows before it\n",
        "  if blank_index is not None:\n",
        "    df = df.iloc[:blank_index]\n",
        "  return df\n",
        "\n",
        "\n",
        "# Clean Up Fields in DataFrame\n",
        "def df_cleanup(dataframe_name):\n",
        "  df = dataframe_name.copy()\n",
        "\n",
        "  col_rename_map = {\n",
        "      'Date': 'date',\n",
        "      'Media Type': 'media_type',\n",
        "      'Line Item ID': 'line_item_id',\n",
        "      'Active View: Measurable Impressions': (\n",
        "          'active_view_measurable_impressions'\n",
        "      ),\n",
        "      'Active View: Viewable Impressions': 'active_view_viewable_impressions',\n",
        "      'Active View: % Audible Impressions': (\n",
        "          'active_view_percent_audible_impressions'\n",
        "      ),\n",
        "      'Active View: Impressions Audible and Visible at Completion': (\n",
        "          'active_view_audible_visible_on_complete_impressions'\n",
        "      ),\n",
        "      'Active View: Audio Measurable Impressions': (\n",
        "          'active_view_audible_measurable_impressions'\n",
        "      ),\n",
        "      'Active View: Impressions Visible 10 Seconds': (\n",
        "          'active_view_viewable_for_time_threshold'\n",
        "      ),\n",
        "      'Clicks': 'clicks',\n",
        "      'Complete Views (Video)': 'rich_media_video_completions',\n",
        "      'Impressions': 'impressions',\n",
        "      'Device Type': 'device_type',\n",
        "      'Ad Position': 'ad_position',\n",
        "      'Day of Week': 'day_of_week',\n",
        "      'Creative Height': 'creative_height',\n",
        "      'Creative Width': 'creative_width',\n",
        "      'Video content duration bucket': 'video_content_duration',\n",
        "      'Video content live stream': 'video_content_live_stream',\n",
        "      'Video Player Size': 'video_player_size',\n",
        "  }\n",
        "\n",
        "  # Rename columns based on mapping\n",
        "  if col_rename_map:\n",
        "    df.rename(\n",
        "        columns=col_rename_map, inplace=True, errors='ignore'\n",
        "    )  # Rename inplace for efficiency\n",
        "\n",
        "  # Replace all -- values with 0\n",
        "  df.replace('--', 0, inplace=True)\n",
        "\n",
        "  # Replace all Unknown values with null\n",
        "  df.replace('Unknown', np.nan, inplace=True)\n",
        "\n",
        "  # Drop columns with all null values\n",
        "  df.dropna(axis=1, how='all', inplace=True)\n",
        "\n",
        "  # Convert columns to numeric or boolean format\n",
        "  for col in df.columns:\n",
        "    if col == 'active_view_percent_audible_impressions':\n",
        "      df['active_view_percent_audible_impressions'] = (\n",
        "          df['active_view_percent_audible_impressions']\n",
        "          .replace('', np.nan)  # Replace empty strings with NaN\n",
        "          .astype(str)\n",
        "          .str.replace('%', '', regex=False)\n",
        "          .astype(float)\n",
        "          / 100\n",
        "      )\n",
        "\n",
        "    if df[col].isin([0, 1]).all():\n",
        "      df[col] = df[col].astype(bool)\n",
        "\n",
        "    try:\n",
        "      df[col] = pd.to_numeric(df[col])\n",
        "      if (\n",
        "          df[col].dtype == 'float64'\n",
        "      ):  # Check for float64 before converting to int64\n",
        "        df[col] = df[col].fillna(0).astype('int64')\n",
        "        if (df[col] % 1 == 0).all():  # Check if all values are whole numbers\n",
        "          df[col] = df[col].astype('Int64')\n",
        "    except ValueError:\n",
        "      pass  # Column cannot be converted to numeric, leave it as is\n",
        "  if 'date' in df.columns:\n",
        "    df['date'] = pd.to_datetime(df['date']).dt.strftime('%Y-%m-%d')\n",
        "\n",
        "  return df\n",
        "\n",
        "\n",
        "# Load DataFrames based on user configuration\n",
        "if _DV3_DATA_SOURCE == 'BQ':\n",
        "  df_dv3_dimension = get_data_from_bq(\n",
        "      _DV3_DIMENSION_DATA_LOCATION, _DV3_BQ_PROJECT\n",
        "  )\n",
        "  df_dv3_metric = get_data_from_bq(_DV3_METRIC_DATA_LOCATION, _DV3_BQ_PROJECT)\n",
        "elif _DV3_DATA_SOURCE == 'Sheets':\n",
        "  df_dv3_dimension = df_cleanup(\n",
        "      get_data_from_sheets(\n",
        "          _DV3_DIMENSION_DATA_LOCATION, _DV3_DIMENSION_WORKSHEET\n",
        "      )\n",
        "  )\n",
        "  df_dv3_metric = df_cleanup(\n",
        "      get_data_from_sheets(_DV3_METRIC_DATA_LOCATION, _DV3_METRIC_WORKSHEET)\n",
        "  )\n",
        "elif _DV3_DATA_SOURCE == 'CSV':\n",
        "  df_dv3_dimension = df_cleanup(get_data_from_csv(_DV3_DIMENSION_DATA_LOCATION))\n",
        "  df_dv3_metric = df_cleanup(get_data_from_csv(_DV3_METRIC_DATA_LOCATION))\n",
        "else:\n",
        "  raise ValueError(\"Invalid DV3 data source. Choose 'BQ' or 'CSV'.\")\n",
        "\n",
        "if _TARGET_VARIABLE_SOURCE == 'BQ':\n",
        "  df_target_variable = get_data_from_bq(\n",
        "      _TARGET_VARIABLE_LOCATION, _TARGET_VARIABLE_BQ_PROJECT\n",
        "  )\n",
        "elif _TARGET_VARIABLE_SOURCE == 'Sheets':\n",
        "  df_target_variable = get_data_from_sheets(\n",
        "      _TARGET_VARIABLE_LOCATION, _TARGET_VARIABLE_WORKSHEET\n",
        "  )\n",
        "else:\n",
        "  raise ValueError(\"Invalid target variable source. Choose 'BQ' or 'Sheets'.\")\n",
        "\n",
        "# Limit to Correct Columns & Standardize Target Variable Column Names\n",
        "df_target_variable = df_target_variable[\n",
        "    [_DATE_COLUMN_TITLE, _TARGET_VARIABLE_COLUMN_TITLE]\n",
        "]\n",
        "df_target_variable.rename(\n",
        "    columns={\n",
        "        _TARGET_VARIABLE_COLUMN_TITLE: 'target_variable',\n",
        "        _DATE_COLUMN_TITLE: 'date',\n",
        "    },\n",
        "    inplace=True,\n",
        ")\n",
        "df_target_variable['date'] = pd.to_datetime(\n",
        "    df_target_variable['date']\n",
        ").dt.strftime('%Y-%m-%d')\n",
        "# df_target_variable['date'] = pd.to_datetime(df_target_variable['date'])\n",
        "\n",
        "\n",
        "# TODO - Add error handling for dates that are not able to be converted to the correct format (i.e. 01.22.2024) and add documentation that date should be in YYYY-MM-DD format\n",
        "print('DataFrames loaded successfully:')\n",
        "print(df_dv3_dimension.head())\n",
        "print(df_dv3_dimension.columns)\n",
        "print(df_dv3_metric.head())\n",
        "print(df_dv3_metric.columns)\n",
        "print(df_target_variable.head())\n",
        "print(df_target_variable.columns)"
      ],
      "metadata": {
        "id": "-UTO7te7BQ2N"
      },
      "execution_count": null,
      "outputs": []
    },
    {
      "cell_type": "markdown",
      "source": [
        "### 3.2) Filter Data Frames by Media Type"
      ],
      "metadata": {
        "id": "h4hjxsQAqktk"
      }
    },
    {
      "cell_type": "code",
      "source": [
        "# @title {\"display-mode\":\"form\"}\n",
        "# Define display and video only columns\n",
        "if _MEDIA_TYPE == 'Video':\n",
        "  columns_to_drop = ['creative_height', 'creative_width']\n",
        "if _MEDIA_TYPE == 'Display':\n",
        "  columns_to_drop = [\n",
        "      'active_view_percent_audible_impressions',\n",
        "      'active_view_audible_visible_on_complete_impressions',\n",
        "      'active_view_audible_measurable_impressions',\n",
        "      'rich_media_video_completions',\n",
        "      'audible_impressions',\n",
        "      'video_content_duration',\n",
        "      'video_content_live_stream',\n",
        "      'video_player_size',\n",
        "  ]\n",
        "\n",
        "\n",
        "# Filter for Media Type data from both DataFrames\n",
        "df_dv3_dimension_filtered = df_dv3_dimension[\n",
        "    df_dv3_dimension['media_type'] == str(_MEDIA_TYPE)\n",
        "].copy()\n",
        "df_dv3_metric_filtered = df_dv3_metric[\n",
        "    df_dv3_metric['media_type'] == _MEDIA_TYPE\n",
        "].copy()\n",
        "\n",
        "# Drop unnecessary columns from DataFrames\n",
        "df_dv3_dimension_filtered = df_dv3_dimension_filtered.drop(\n",
        "    columns=columns_to_drop + ['media_type'], errors='ignore'\n",
        ")\n",
        "df_dv3_metric_filtered = df_dv3_metric_filtered.drop(\n",
        "    columns=columns_to_drop + ['media_type'], errors='ignore'\n",
        ")\n",
        "\n",
        "\n",
        "# Check if dataframes are empty\n",
        "if df_dv3_dimension_filtered.empty or df_dv3_metric_filtered.empty:\n",
        "  raise ValueError(\n",
        "      'One or both of the filtered DV360 dataframes are empty. Please check'\n",
        "      ' your data and ensure the Media Type of the data aligns with the type'\n",
        "      ' you chose in Step 2.1'\n",
        "  )\n",
        "\n",
        "\n",
        "print('DataFrames successfully refactored.')\n",
        "print(df_dv3_dimension_filtered.head())\n",
        "print(df_dv3_metric_filtered.head())"
      ],
      "metadata": {
        "id": "EYm4WnAGez_d"
      },
      "execution_count": null,
      "outputs": []
    },
    {
      "cell_type": "markdown",
      "source": [
        "### 3.3) Extract Line Item Data"
      ],
      "metadata": {
        "id": "VSDaign00Ioc"
      }
    },
    {
      "cell_type": "code",
      "source": [
        "# @title {\"display-mode\":\"form\"}\n",
        "def create_line_item_df(combined_df, media_type):\n",
        "  \"\"\"Transforms metric data for a specific media type, incorporating day-of-week counts.\n",
        "\n",
        "  Args:\n",
        "      df_metric: Dataframe containing metrics for the specific media type (e.g.,\n",
        "        Display, Video).\n",
        "\n",
        "  Returns:\n",
        "      Transformed dataframe with date as the index.\n",
        "  \"\"\"\n",
        "  combined_df = combined_df.copy()\n",
        "  combined_df['line_item_id'] = combined_df['line_item_id'].astype(str)\n",
        "\n",
        "  line_item_counts = (\n",
        "      combined_df.groupby('date')['line_item_id']\n",
        "      .value_counts()\n",
        "      .reset_index()\n",
        "      .pivot(columns=['line_item_id'], values='count', index='date')\n",
        "      .fillna(0)\n",
        "  )\n",
        "\n",
        "  line_item_counts.reset_index(inplace=True)\n",
        "  line_item_counts.columns.name = None\n",
        "\n",
        "  if _MODEL != 'Include_Weekday':\n",
        "    weekday_counts = (\n",
        "        combined_df.groupby('date')['day_of_week']\n",
        "        .value_counts()\n",
        "        .reset_index()\n",
        "        .pivot(columns='day_of_week', values='count', index='date')\n",
        "        .fillna(0)\n",
        "    )\n",
        "    weekday_counts.reset_index(inplace=True)\n",
        "    weekday_counts.columns.name = None\n",
        "\n",
        "    # Join weekday counts and other data\n",
        "    line_item_df = weekday_counts.join(\n",
        "        line_item_counts.set_index('date'), on='date'\n",
        "    )\n",
        "  else:\n",
        "    # Initialize an empty df so that final formatting does not error out\n",
        "    # during include_weekday model type\n",
        "    line_item_df = pd.DataFrame(line_item_counts)\n",
        "\n",
        "  # Final formatting\n",
        "  line_item_df['date'] = pd.to_datetime(line_item_df['date'])\n",
        "  df_dv3_metric_filtered['date'] = pd.to_datetime(\n",
        "      df_dv3_metric_filtered['date']\n",
        "  )\n",
        "  df_target_variable['date'] = pd.to_datetime(df_target_variable['date'])\n",
        "  line_item_df = pd.merge(\n",
        "      line_item_df, df_target_variable[['date', 'target_variable']], on=['date']\n",
        "  )\n",
        "  line_item_df = pd.merge(\n",
        "      line_item_df, df_dv3_metric_filtered[['date', 'impressions']], on=['date']\n",
        "  )\n",
        "  line_item_df.set_index('date', inplace=True)\n",
        "  line_item_df.sort_index(inplace=True)\n",
        "  line_item_df['impressions'] = pd.to_numeric(\n",
        "      line_item_df['impressions'], errors='coerce'\n",
        "  )\n",
        "  line_item_df['target_variable'] = pd.to_numeric(\n",
        "      line_item_df['target_variable'], errors='coerce'\n",
        "  )\n",
        "\n",
        "  return line_item_df\n",
        "\n",
        "\n",
        "# day_of_week_df = df_dv3_dimension_filtered.groupby('date')['day_of_week'].value_counts().reset_index()\n",
        "# dfs_to_merge = [day_of_week_df, df_dv3_metric_filtered]\n",
        "# merged_df = combine_dataframes_by_date(dfs_to_merge)\n",
        "# Create separate DataFrames for Line Item Data\n",
        "line_item_df = create_line_item_df(df_dv3_dimension_filtered, _MEDIA_TYPE)\n",
        "print(line_item_df.head())"
      ],
      "metadata": {
        "id": "Z2odnIc2DS3g"
      },
      "execution_count": null,
      "outputs": []
    },
    {
      "cell_type": "markdown",
      "source": [
        "### 3.4) Pivot Dimension DFs"
      ],
      "metadata": {
        "id": "Aah3Wg6Uqx9e"
      }
    },
    {
      "cell_type": "code",
      "source": [
        "# @title {\"display-mode\":\"form\"}\n",
        "def pivot_and_format_df(\n",
        "    df,\n",
        "    exclude_columns=[\n",
        "        'date',\n",
        "        'impressions',\n",
        "        'clicks',\n",
        "        'active_view_viewable_impressions',\n",
        "    ],\n",
        "    index_col='date',\n",
        "    value_col='impressions',\n",
        "):\n",
        "  \"\"\"Pivots a DataFrame based on specified columns, formats column names, fills NaN values,\n",
        "\n",
        "  and drops columns with insignificant sums compared to the original value\n",
        "  column.\n",
        "\n",
        "  Args:\n",
        "      df: The DataFrame to pivot.\n",
        "      exclude_columns: A list of columns to exclude from pivoting (default is\n",
        "        ['date', 'impressions']).\n",
        "      index_col: The column to use as the index (default is 'date').\n",
        "      value_col: The column to use as the values (default is 'impressions').\n",
        "\n",
        "  Returns:\n",
        "      A list of pivoted and formatted DataFrames.\n",
        "  \"\"\"\n",
        "\n",
        "  # Calculate the total sum of the value column at the beginning\n",
        "  total_value_sum = df[value_col].sum()\n",
        "\n",
        "  # Get columns to pivot\n",
        "  columns_to_pivot = [col for col in df.columns if col not in exclude_columns]\n",
        "\n",
        "  if _MODEL != 'Include_Weekday':\n",
        "    columns_to_pivot.remove('day_of_week')\n",
        "\n",
        "  my_list = []\n",
        "  pivot_dfs = []\n",
        "  pivot_volumes = {}\n",
        "  for col in columns_to_pivot:\n",
        "    temp_df = df[[col, index_col, value_col]]\n",
        "    pivot_df = temp_df.pivot_table(\n",
        "        index=index_col, columns=col, values=value_col, aggfunc='sum'\n",
        "    )\n",
        "    pivot_df.columns = pivot_df.columns.astype(str)\n",
        "    pivot_df.columns = [\n",
        "        f\"{col}___{x.replace(' ', '_').replace('.', '_')}\"\n",
        "        for x in pivot_df.columns\n",
        "    ]\n",
        "    if value_col != 'impressions':\n",
        "      pivot_df.columns = [f'{x}__AND__{value_col}' for x in pivot_df.columns]\n",
        "    pivot_df = pivot_df.fillna(0).reset_index()\n",
        "    pivot_df['date'] = pd.to_datetime(pivot_df['date']).dt.strftime('%Y-%m-%d')\n",
        "\n",
        "    # Calculate the sum of each new column and compare to the total value sum\n",
        "    for column in pivot_df.columns:\n",
        "      if column != 'date':\n",
        "        column_sum = pivot_df[column].sum()\n",
        "        comparison = column_sum / total_value_sum\n",
        "        pivot_volumes[column] = comparison\n",
        "        if comparison < 0.0001:  # 0.01% threshold\n",
        "          pivot_df = pivot_df.drop(column, axis=1)\n",
        "\n",
        "    my_list = my_list + pivot_df.columns.tolist()\n",
        "    pivot_dfs.append(pivot_df)\n",
        "  print(pivot_volumes)\n",
        "  return pivot_dfs\n",
        "\n",
        "\n",
        "# Drop Line Item Data from final DataFrames\n",
        "df_dv3_dimension_grouped = df_dv3_dimension_filtered.drop(\n",
        "    columns=['line_item_id']\n",
        ")\n",
        "# Group by all remaining columns and sum 'impressions'\n",
        "df_dv3_dimension_grouped = (\n",
        "    df_dv3_dimension_grouped.groupby(\n",
        "        df_dv3_dimension_grouped.columns.difference(['impressions']).tolist()\n",
        "    )\n",
        "    .agg({'impressions': 'sum'})\n",
        "    .reset_index()\n",
        ")\n",
        "\n",
        "# Pivot and format DataFrames using the function\n",
        "pivot_dimension_dfs = pivot_and_format_df(df_dv3_dimension_grouped)\n",
        "\n",
        "if _MODEL == 'Extra_Pivots':\n",
        "  extra_pivots_df = pivot_and_format_df(\n",
        "      df_dv3_dimension_grouped, value_col='clicks'\n",
        "  )\n",
        "  pivot_dimension_dfs.extend(extra_pivots_df)\n",
        "  extra_pivots_df = pivot_and_format_df(\n",
        "      df_dv3_dimension_grouped, value_col='active_view_viewable_impressions'\n",
        "  )\n",
        "  pivot_dimension_dfs.extend(extra_pivots_df)\n",
        "\n",
        "print('DataFrames successfully pivoted.')\n",
        "for items in pivot_dimension_dfs:\n",
        "  print(items.columns.tolist())"
      ],
      "metadata": {
        "id": "z1Cs0zYgnMMC"
      },
      "execution_count": null,
      "outputs": []
    },
    {
      "cell_type": "markdown",
      "source": [
        "### 3.5) Concat All Data (incl Metric Data)"
      ],
      "metadata": {
        "id": "w4ZrBXiUw70M"
      }
    },
    {
      "cell_type": "code",
      "source": [
        "# @title {\"display-mode\":\"form\"}\n",
        "\n",
        "# Add Metric DFs to the list to be combined\n",
        "pivot_dimension_dfs.append(df_dv3_metric_filtered)\n",
        "\n",
        "# Add Target Variable DFs to the list to be combined\n",
        "pivot_dimension_dfs.append(df_target_variable)\n",
        "\n",
        "# Concatenate pivoted dataframes\n",
        "\n",
        "for df in pivot_dimension_dfs:\n",
        "  df['date'] = pd.to_datetime(df['date']).dt.strftime('%Y-%m-%d')\n",
        "\n",
        "final_df = combine_dataframes_by_date(pivot_dimension_dfs)\n",
        "final_df['target_variable'] = pd.to_numeric(\n",
        "    final_df['target_variable'], errors='coerce'\n",
        ")\n",
        "final_df = final_df[final_df['target_variable'] > 0]\n",
        "final_df = final_df[final_df['impressions'] > 0]\n",
        "\n",
        "print('Final DataFrames ready for model usage.')\n",
        "print(final_df.columns.tolist())\n",
        "\n",
        "final_df.head()"
      ],
      "metadata": {
        "id": "r0Qysrrr72nx"
      },
      "execution_count": null,
      "outputs": []
    },
    {
      "cell_type": "markdown",
      "source": [
        "# **4) Run Model**"
      ],
      "metadata": {
        "id": "z3IOBk7Cfmlp"
      }
    },
    {
      "cell_type": "markdown",
      "source": [
        "### 4.1) Find Best Lag & Shift Data"
      ],
      "metadata": {
        "id": "yjRdlKjkrpME"
      }
    },
    {
      "cell_type": "code",
      "source": [
        "# @title {\"display-mode\":\"form\"}\n",
        "best_lag = get_best_lag(final_df)\n",
        "final_df['target_variable'].shift(best_lag)\n",
        "final_df.dropna(inplace=True)\n",
        "print(final_df.head())"
      ],
      "metadata": {
        "id": "L3KbjGE2e1hC"
      },
      "execution_count": null,
      "outputs": []
    },
    {
      "cell_type": "markdown",
      "source": [
        "### 4.2) Normalise data by number of daily impressions"
      ],
      "metadata": {
        "id": "gQho63Eoexo5"
      }
    },
    {
      "cell_type": "code",
      "source": [
        "# @title {\"display-mode\":\"form\"}\n",
        "line_item_df['impressions'] = pd.to_numeric(\n",
        "    line_item_df['impressions'], errors='coerce'\n",
        ")\n",
        "line_item_df['target_variable'] = pd.to_numeric(\n",
        "    line_item_df['target_variable'], errors='coerce'\n",
        ")\n",
        "line_item_df = line_item_df[line_item_df['target_variable'] > 0]\n",
        "line_item_df = line_item_df[line_item_df['impressions'] > 0]\n",
        "\n",
        "line_item_display_df_normalised = line_item_df.divide(\n",
        "    line_item_df['impressions'], axis=0\n",
        ")\n",
        "line_item_display_df_normalised.drop(['impressions'], axis=1, inplace=True)\n",
        "\n",
        "line_item_display_df_normalised = line_item_display_df_normalised[\n",
        "    line_item_display_df_normalised['target_variable'] < 1\n",
        "]"
      ],
      "metadata": {
        "id": "B0pG0eHk56AA"
      },
      "execution_count": null,
      "outputs": []
    },
    {
      "cell_type": "code",
      "source": [
        "# @title {\"display-mode\":\"form\"}\n",
        "\n",
        "final_df['target_variable'] = pd.to_numeric(\n",
        "    final_df['target_variable'], errors='coerce'\n",
        ")\n",
        "final_df['impressions'] = pd.to_numeric(\n",
        "    final_df['impressions'], errors='coerce'\n",
        ")\n",
        "print(final_df.head())\n",
        "final_df.set_index('date', inplace=True)\n",
        "\n",
        "df_normalised = final_df.divide(final_df['impressions'], axis=0)\n",
        "df_normalised = df_normalised[df_normalised['target_variable'] < 1]"
      ],
      "metadata": {
        "id": "bstqaDV0LSO5"
      },
      "execution_count": null,
      "outputs": []
    },
    {
      "cell_type": "markdown",
      "source": [
        "## 4.3) Debias KPI from Line Item ID"
      ],
      "metadata": {
        "id": "2YImGs0CHRyH"
      }
    },
    {
      "cell_type": "markdown",
      "source": [
        "Reference:\n",
        "https://matheusfacure.github.io/python-causality-handbook/22-Debiased-Orthogonal-Machine-Learning.html"
      ],
      "metadata": {
        "id": "RtGsVZ5lviFv"
      }
    },
    {
      "cell_type": "code",
      "source": [
        "# @title {\"display-mode\":\"form\"}\n",
        "X = line_item_display_df_normalised\n",
        "print(X.head())\n",
        "y_predicted = pd.DataFrame(\n",
        "    index=X.index, columns=['prediction', 'prediction_train']\n",
        ")\n",
        "kf = KFold(n_splits=5, shuffle=True, random_state=1)\n",
        "for i, (train_index, test_index) in enumerate(kf.split(X)):\n",
        "  train_ds = X.iloc[train_index]\n",
        "  test_ds = X.iloc[test_index]\n",
        "  model = ydf.GradientBoostedTreesLearner(\n",
        "      label='target_variable', task=ydf.Task.REGRESSION\n",
        "  ).train(train_ds)\n",
        "  y_pred = model.predict(test_ds)\n",
        "  y_pred_train = model.predict(train_ds)\n",
        "  y_predicted.iloc[test_index, 0] = y_pred\n",
        "  y_predicted.iloc[train_index, 1] = y_pred_train\n",
        "y_res = X['target_variable'] - y_predicted['prediction']"
      ],
      "metadata": {
        "id": "BS70QgsG8c6L"
      },
      "execution_count": null,
      "outputs": []
    },
    {
      "cell_type": "markdown",
      "source": [
        "## 4.4) Debias each feature from Line Item ID"
      ],
      "metadata": {
        "id": "V5GQTWrzFYQ4"
      }
    },
    {
      "cell_type": "code",
      "source": [
        "# @title\n",
        "feature_columns = []\n",
        "other_columns = ['date', 'target_variable', 'impressions']\n",
        "for col in final_df.columns:\n",
        "  if col not in other_columns:\n",
        "    feature_columns.append(col)\n",
        "print(feature_columns)"
      ],
      "metadata": {
        "id": "b3PXD2x8Nglg",
        "cellView": "form"
      },
      "execution_count": null,
      "outputs": []
    },
    {
      "cell_type": "code",
      "source": [
        "# @title\n",
        "df_residuals = pd.DataFrame(index=df.index, columns=feature_columns)\n",
        "X = line_item_display_df_normalised.drop(['target_variable'], axis=1)\n",
        "for col_idx, col in enumerate(feature_columns):\n",
        "  y = df_normalised[col]\n",
        "  ds = X.merge(y, left_index=True, right_index=True)\n",
        "  y_predicted = pd.DataFrame(index=X.index, columns=['prediction'])\n",
        "  kf = KFold(n_splits=5, shuffle=True, random_state=1)\n",
        "  for i, (train_index, test_index) in enumerate(kf.split(ds)):\n",
        "    train_ds = ds.iloc[train_index]\n",
        "    test_ds = ds.iloc[test_index]\n",
        "    model = ydf.GradientBoostedTreesLearner(\n",
        "        label=col, task=ydf.Task.REGRESSION\n",
        "    ).train(train_ds)\n",
        "    y_pred = model.predict(test_ds)\n",
        "    df_residuals.iloc[test_index, col_idx] = y_pred - test_ds[col]\n",
        "\n",
        "df_residuals.dropna(inplace=True)\n",
        "y_res.dropna(inplace=True)\n",
        "\n",
        "print(y_res.shape)\n",
        "df_residuals.shape\n",
        "\n",
        "df_residuals['target'] = y_res.values"
      ],
      "metadata": {
        "id": "dszVzoXFG37N",
        "cellView": "form"
      },
      "execution_count": null,
      "outputs": []
    },
    {
      "cell_type": "markdown",
      "source": [
        "## 4.5) Run inference model"
      ],
      "metadata": {
        "id": "HCZKmf-RHlkN"
      }
    },
    {
      "cell_type": "code",
      "source": [
        "# @title\n",
        "X_cols = feature_columns\n",
        "plot_lower_triangle_corr(df_residuals)\n",
        "TARGET = 'target'\n",
        "for col in df_residuals.columns:\n",
        "  df_residuals[col] = df_residuals[col].astype(float)\n",
        "data_scaled = df_residuals.copy()\n",
        "for col in data_scaled.columns:\n",
        "  data_scaled[col] = (data_scaled[col] - data_scaled[col].mean()) / data_scaled[\n",
        "      col\n",
        "  ].std()\n",
        "inference_data = data_preparation.InferenceData(\n",
        "    initial_data=data_scaled[X_cols + [TARGET]], target_column=TARGET\n",
        ")\n",
        "inference_data.address_low_variance(threshold=0, drop=True)\n",
        "inference_data.address_collinearity_with_vif(\n",
        "    vif_method='sequential', vif_threshold=10, drop=True\n",
        ")\n",
        "model = models.InferenceRidge()\n",
        "model.fit(inference_data, raise_on_data_error=False)\n",
        "model.get_results()[['effect']].sort_values(by='effect', ascending=False)\n",
        "\n",
        "inference_results = model.get_results()\n",
        "\n",
        "r2 = r2_score(inference_data.data['target'], model.predict(inference_data))\n",
        "\n",
        "mean_squared_error(inference_data.data['target'], model.predict(inference_data))"
      ],
      "metadata": {
        "id": "cQQUrk1v1wFc",
        "cellView": "form"
      },
      "execution_count": null,
      "outputs": []
    },
    {
      "cell_type": "markdown",
      "source": [
        "## 4.6) Generate Model Ouputs"
      ],
      "metadata": {
        "id": "0byoDQe6bN1W"
      }
    },
    {
      "cell_type": "code",
      "source": [
        "# @title\n",
        "model_quality_score = round(r2, 2)\n",
        "all_results = inference_results.effect.to_dict()\n",
        "final_weights = {key: value for key, value in all_results.items() if value >= 0}\n",
        "if \"Intercept\" in final_weights:\n",
        "  del final_weights[\"Intercept\"]\n",
        "for value in final_weights:\n",
        "  final_weights[value] = round(final_weights[value] * 1000, 2)\n",
        "print(final_weights)"
      ],
      "metadata": {
        "id": "FADsnqnNlTgo",
        "cellView": "form"
      },
      "execution_count": null,
      "outputs": []
    },
    {
      "cell_type": "markdown",
      "source": [
        "# **5) Generate Custom Bidding Script**"
      ],
      "metadata": {
        "id": "xCol3-uKXRma"
      }
    },
    {
      "cell_type": "markdown",
      "source": [
        "### 5.1) Script Generator"
      ],
      "metadata": {
        "id": "tDl2t8TyLYPP"
      }
    },
    {
      "cell_type": "markdown",
      "source": [
        "**Note:** Before sharing with the client, please review this guidnace on how\n",
        "interpret the Model Quality Score, found within the\n",
        "[t](https://docs.google.com/document/d/1oOLTo1STn9mCXXEKj95JbpflPhI4x0GHH4zrhRK5L4o/edit?tab=t.0#heading=h.9szspsjts0ae)\n",
        "in the implementation guide."
      ],
      "metadata": {
        "id": "JeKU1L-dyNzZ"
      }
    },
    {
      "cell_type": "code",
      "source": [
        "# @title\n",
        "# EXAMPLE 1: All simple criteria\n",
        "# final_weights = {'device_type___Connected_TV': 0.8,'device_type___Desktop': 0.24,'device_type___Smart_Phone': 0.36,'device_type___Tablet': 0.59,'ad_position___ABOVE_THE_FOLD': 0.27,'ad_position___BELOW_THE_FOLD': 0.44,'video_content_duration___0_to_1_minutes': 0.86,'video_content_duration___1_to_5_minutes': 0.61,'video_content_duration___15_to_30_minutes': 0.57,'video_content_duration___30_to_60_minutes': 0.37,'video_content_duration___5_to_15_minutes': 0.2,'video_content_duration___Over_60_minutes': 0.11,'video_content_live_stream___0': 0.56,'video_content_live_stream___1': 0.52,'video_player_size___HD': 0.19,'creative_height___0': 0.98,'creative_height___50': 0.92,'creative_height___90': 0.82,'creative_height___100': 0.18,'creative_height___250': 0.09,'creative_height___480': 0.14,'creative_height___600': 0.84,'creative_width___0': 0.71,'creative_width___160': 0.65,'creative_width___300': 0.06,'creative_width___320': 0.94,'creative_width___728': 0.13,'creative_width___800': 0.84,'creative_width___970': 0.63,}\n",
        "# EXAMPLE 2: Add in AND logic (only type equal_integer)\n",
        "# final_weights = {'device_type___Tablet__AND__active_view_viewable_impressions': 108.0889473264861, 'creative_width___0__AND__clicks': 49.79721532099451, 'ad_position___BELOW_THE_FOLD': 39.84416194699743, 'creative_height___600__AND__active_view_viewable_impressions': 22.200936699675943, 'device_type___Connected_TV': 21.516999213820256, 'creative_height___600__AND__clicks': 18.178125100917512, 'active_view_measurable_impressions': 17.278314213026228, 'device_type___Desktop__AND__active_view_viewable_impressions': 15.405580354088443, 'creative_height___416__AND__active_view_viewable_impressions': 13.563283374806929, 'creative_height___500': 10.428116805245228, 'creative_height___600': 4.947450378306167, 'device_type___Connected_TV__AND__clicks': 4.0510465497629, 'device_type___Smart_Phone': 0.028838219799943887}\n",
        "# EXAMPLE 3: Add in AND logic (type boolean)\n",
        "# final_weights = {'device_type___Tablet__AND__active_view_viewable_impressions': 108.0889473264861, 'creative_width___0__AND__clicks': 49.79721532099451, 'ad_position___BELOW_THE_FOLD': 39.84416194699743, 'video_content_live_stream___False__AND__active_view_viewable_impressions': 22.200936699675943, 'device_type___Connected_TV': 21.516999213820256, 'video_content_live_stream___False__AND__clicks': 18.178125100917512, 'active_view_measurable_impressions': 17.278314213026228, 'device_type___Desktop__AND__active_view_viewable_impressions': 15.405580354088443, 'creative_height___416__AND__active_view_viewable_impressions': 13.563283374806929, 'creative_height___500': 10.428116805245228, 'video_content_live_stream___False': 4.947450378306167, 'device_type___Connected_TV__AND__clicks': 4.0510465497629, 'device_type___Smart_Phone': 0.028838219799943887}\n",
        "\n",
        "all_criteria = {\n",
        "    'video_content_live_stream': {\n",
        "        'name': 'video_livestream',\n",
        "        'type': 'boolean',\n",
        "    },\n",
        "    'active_view_measurable_impressions': {\n",
        "        'name': 'active_view_measurable',\n",
        "        'type': 'boolean',\n",
        "    },\n",
        "    'active_view_viewable_impressions': {\n",
        "        'name': 'active_view_viewed',\n",
        "        'type': 'boolean',\n",
        "    },\n",
        "    'active_view_audible_visible_on_complete_impressions': {\n",
        "        'name': 'completed_in_view_audible',\n",
        "        'type': 'boolean',\n",
        "    },\n",
        "    'audible_impressions': {'name': 'audible', 'type': 'boolean'},\n",
        "    'clicks': {'name': 'click', 'type': 'boolean'},\n",
        "    'rich_media_video_completions': {\n",
        "        'name': 'video_completed',\n",
        "        'type': 'boolean',\n",
        "    },\n",
        "    'media_type': {'name': 'ad_type', 'type': 'equal_integer'},\n",
        "    'device_type': {'name': 'device_type', 'type': 'equal_integer'},\n",
        "    'ad_position': {'name': 'ad_position', 'type': 'equal_integer'},\n",
        "    'day_of_week': {'name': 'day_of_week', 'type': 'equal_integer'},\n",
        "    'creative_height': {'name': 'creative_height', 'type': 'equal_integer'},\n",
        "    'creative_width': {'name': 'creative_width', 'type': 'equal_integer'},\n",
        "    'video_content_duration': {\n",
        "        'name': 'video_content_duration_bucket',\n",
        "        'type': 'equal_integer',\n",
        "    },\n",
        "    'video_player_size': {'name': 'video_player_size', 'type': 'equal_integer'},\n",
        "    'active_view_viewable_for_time_threshold': {\n",
        "        'name': 'time_on_screen_seconds',\n",
        "        'type': 'time_on_screen_threshold',\n",
        "    },\n",
        "}\n",
        "\n",
        "\n",
        "transformed_criteria = {\n",
        "    'device_type': {\n",
        "        'Desktop': '0',\n",
        "        'Unknown': '1',\n",
        "        'Smart_Phone': '2',\n",
        "        'Tablet': '3',\n",
        "        'Smart_TV': '4',\n",
        "        'Connected_TV': '5',\n",
        "        'Set_Top_Box': '6',\n",
        "        'Connected_Device': '7',\n",
        "    },\n",
        "    'day_of_week': {\n",
        "        'Sunday': '0',\n",
        "        'Monday': '1',\n",
        "        'Tuesday': '2',\n",
        "        'Wednesday': '3',\n",
        "        'Thursday': '4',\n",
        "        'Friday': '5',\n",
        "        'Saturday': '6',\n",
        "    },\n",
        "    'video_content_duration_bucket': {\n",
        "        'Unknown': '0',\n",
        "        '0_to_1_minutes': '1',\n",
        "        '1_to_5_minutes': '2',\n",
        "        '5_to_15_minutes': '3',\n",
        "        '15_to_30_minutes': '4',\n",
        "        '30_to_60_minutes': '5',\n",
        "        'Over_60_minutes': '7',\n",
        "    },\n",
        "    'ad_position': {\n",
        "        'UNKNOWN': '0',\n",
        "        'ABOVE_THE_FOLD': '1',\n",
        "        'BELOW_THE_FOLD': '2',\n",
        "    },\n",
        "    'video_player_size': {\n",
        "        'Unknown': '0',\n",
        "        'Small': '1',\n",
        "        'Large': '2',\n",
        "        'HD': '3',\n",
        "    },\n",
        "}\n",
        "\n",
        "script_header = f\"\"\"\n",
        "####################################\n",
        "# BIDDING IQ CUSTOM BIDDING SCRIPT #\n",
        "####################################\n",
        "# Model ID: {model_id}\n",
        "# Model Quality Score: {model_quality_score}\n",
        "# Script:\n",
        "\n",
        "\"\"\"\n",
        "script_contents = 'return sum_aggregate(['\n",
        "script_end = \"\"\"\n",
        "  #Created with BiddingIQ\n",
        "  ])\n",
        "\"\"\"\n",
        "\n",
        "# Group overlapping features\n",
        "grouped_features = {}\n",
        "for key, weight in final_weights.items():\n",
        "  if '__AND__' in key:\n",
        "    criteria, pivot = key.split('__AND__')\n",
        "    # Check if the key exists, if not, create a list for it\n",
        "    if criteria not in grouped_features:\n",
        "      grouped_features[criteria] = []\n",
        "    grouped_features[criteria].append((pivot, weight))\n",
        "  else:\n",
        "    criteria = key\n",
        "    # Check if the key exists, if not, create a list for it\n",
        "    if criteria not in grouped_features:\n",
        "      grouped_features[criteria] = []\n",
        "    grouped_features[criteria].append(('', weight))  # No pivot\n",
        "\n",
        "# # Iterate over grouped features and construct clauses\n",
        "for key, value in grouped_features.items():\n",
        "  if '___' in key:\n",
        "    criteria, condition = key.split('___')\n",
        "  else:\n",
        "    criteria = key\n",
        "    condition = ''  # Assign empty string if no condition\n",
        "  # Get renamed variable and criteria_type from all_criteria\n",
        "  criteria_info = all_criteria.get(\n",
        "      criteria, {}\n",
        "  )  # Handle case where criteria is not found\n",
        "  criteria = criteria_info.get(\n",
        "      'name', criteria\n",
        "  )  # Use original criteria if not found\n",
        "  criteria_type = criteria_info.get('type')\n",
        "\n",
        "  if not criteria_type:  # Handle case where criteria_type is not found\n",
        "    print(\n",
        "        'No criteria type found for '\n",
        "        + criteria\n",
        "        + ' so it will not be included in final script'\n",
        "    )\n",
        "    continue\n",
        "\n",
        "  # Construct clause based on criteria type\n",
        "  if criteria_type == 'boolean':\n",
        "    if condition == '0' or condition == 'False':\n",
        "      final_condition = f'not {criteria}'\n",
        "    else:\n",
        "      final_condition = criteria\n",
        "  elif criteria_type == 'equal_integer':\n",
        "    if criteria in transformed_criteria:\n",
        "      condition = transformed_criteria[criteria][condition]\n",
        "    final_condition = f'{criteria}=={condition}'\n",
        "  elif criteria_type == 'time_on_screen_threshold':\n",
        "    final_condition = f'{criteria}>2'\n",
        "  # Handle multiple features with max_aggregate\n",
        "  if len(value) > 1:\n",
        "    inner_clauses = []\n",
        "    for pivot, weight in value:\n",
        "      if pivot != '':  # Handle pivot\n",
        "        pivot_info = all_criteria.get(pivot, {})\n",
        "        pivot = pivot_info.get('name', pivot)\n",
        "\n",
        "        # Reference final_condition in inner_clause\n",
        "        inner_clause = f'([{final_condition} and {pivot}], {weight})'\n",
        "      else:\n",
        "        inner_clause = f'([{final_condition}], {weight})'\n",
        "      inner_clauses.append(inner_clause)\n",
        "\n",
        "    max_aggregate_clause = (\n",
        "        f'([{final_condition}], max_aggregate([\\n\\t\\t'\n",
        "        + ',\\n\\t\\t'.join(inner_clauses)\n",
        "        + '\\n\\t])),'\n",
        "    )\n",
        "    clause = max_aggregate_clause\n",
        "  else:\n",
        "    for pivot, weight in value:  # handle single pivot values\n",
        "      if pivot != '':\n",
        "        pivot_info = all_criteria.get(pivot, {})\n",
        "        pivot = pivot_info.get('name', pivot)\n",
        "        final_condition = f'{final_condition} and {pivot}'\n",
        "    # Create the clause using the final_condition\n",
        "    clause = f'([{final_condition}], {value[0][1]}),'\n",
        "  script_contents += '\\n' + '\\t' + clause\n",
        "\n",
        "final_script = script_header + script_contents + script_end\n",
        "\n",
        "print(final_script)"
      ],
      "metadata": {
        "id": "eZWs2gU93Ndz",
        "cellView": "form"
      },
      "execution_count": null,
      "outputs": []
    },
    {
      "cell_type": "code",
      "source": [
        "# @title Save Script to Drive\n",
        "# timestamp = datetime.now(ZoneInfo('America/New_York')).strftime('%Y%m%d_%H%M%S')\n",
        "file_name = _CLIENT_NAME + '_Bidding_Script_' + model_id + '.txt'\n",
        "file_path = script_folder + '/' + file_name\n",
        "\n",
        "with open(file_path, 'w') as f:\n",
        "  f.write(final_script)"
      ],
      "metadata": {
        "id": "x5T4TAYjjEpl",
        "cellView": "form"
      },
      "execution_count": null,
      "outputs": []
    },
    {
      "cell_type": "markdown",
      "source": [
        "# **Final Script**\n",
        "\n",
        "You can copy the full script from below (title included) or it should be saved\n",
        "in your Google Drive (in a folder named \"Bidding_IQ\")"
      ],
      "metadata": {
        "id": "xfJwIr3NJ7Pa"
      }
    },
    {
      "cell_type": "code",
      "source": [
        "# @title\n",
        "print(final_script)"
      ],
      "metadata": {
        "cellView": "form",
        "id": "zyLrmVw2Jxlv"
      },
      "execution_count": null,
      "outputs": []
    }
  ]
}
